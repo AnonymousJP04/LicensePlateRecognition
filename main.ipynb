{
 "cells": [
  {
   "cell_type": "markdown",
   "metadata": {},
   "source": [
    "# Image Preprocessing\n"
   ]
  },
  {
   "cell_type": "code",
   "execution_count": 5,
   "metadata": {},
   "outputs": [
    {
     "name": "stdout",
     "output_type": "stream",
     "text": [
      "Training set: (14000, 32, 32, 3) (14000, 19976)\n",
      "Validation set: (3000, 32, 32, 3) (3000, 19976)\n",
      "Test set: (3000, 32, 32, 3) (3000, 19976)\n"
     ]
    }
   ],
   "source": [
    "import os\n",
    "import pandas as pd\n",
    "import numpy as np\n",
    "from sklearn.model_selection import train_test_split\n",
    "from tensorflow.keras.utils import to_categorical\n",
    "from tensorflow.keras.preprocessing.image import load_img, img_to_array\n",
    "\n",
    "# declare paths to dataset\n",
    "dataset_dir = \"dataset\"\n",
    "images_dir = os.path.join(dataset_dir, \"license-plate\")\n",
    "labels_file = os.path.join(dataset_dir, \"labels.csv\")\n",
    "\n",
    "# read csv\n",
    "# CSV has columns: 'images' (image file names) and 'labels' (class labels)\n",
    "labels_df = pd.read_csv(labels_file)\n",
    "\n",
    "# load and preprocess images\n",
    "def load_and_preprocess_image(image_name, target_size=(32, 32)):\n",
    "    img_path = os.path.join(images_dir, image_name)\n",
    "    img = load_img(img_path, target_size=target_size)  # resize image\n",
    "    img_array = img_to_array(img) / 255.0  # convert img to array and normalize\n",
    "    return img_array\n",
    "\n",
    "# load all images into a numpy array\n",
    "x_data = np.array([load_and_preprocess_image(img_name) for img_name in labels_df['images']])\n",
    "\n",
    "# convert labels to numerical format\n",
    "label_mapping = {label: idx for idx, label in enumerate(sorted(labels_df['labels'].unique()))}\n",
    "y_data = labels_df['labels'].map(label_mapping).values\n",
    "\n",
    "# one-hot encode the labels\n",
    "y_data = to_categorical(y_data, num_classes=len(label_mapping))\n",
    "\n",
    "# split the dataset: training, validation, test\n",
    "x_train, x_temp, y_train, y_temp = train_test_split(x_data, y_data, test_size=0.3, random_state=42)\n",
    "x_val, x_test, y_val, y_test = train_test_split(x_temp, y_temp, test_size=0.5, random_state=42)\n",
    "\n",
    "# data summary\n",
    "print(\"Training set:\", x_train.shape, y_train.shape)\n",
    "print(\"Validation set:\", x_val.shape, y_val.shape)\n",
    "print(\"Test set:\", x_test.shape, y_test.shape)\n"
   ]
  },
  {
   "cell_type": "code",
   "execution_count": null,
   "metadata": {},
   "outputs": [],
   "source": [
    "# optional; only to view the dataset\n",
    "import matplotlib.pyplot as plt\n",
    "\n",
    "# function to display a grid of images with their labels\n",
    "def display_images_grid(images, labels, label_mapping, title, grid_size=(10, 10)):\n",
    "    fig, axes = plt.subplots(grid_size[0], grid_size[1], figsize=(15, 15))\n",
    "    fig.suptitle(title, fontsize=16)\n",
    "    axes = axes.ravel()  # flatten the 2D grid into a 1D array of axes\n",
    "\n",
    "    for i in range(grid_size[0] * grid_size[1]): \n",
    "        axes[i].imshow(images[i])  # show the image\n",
    "        label_index = np.argmax(labels[i])  # decode one-hot encoded label\n",
    "        label_name = [k for k, v in label_mapping.items() if v == label_index][0]  # Reverse mapping\n",
    "        axes[i].set_title(label_name, fontsize=8)  # add the label as title\n",
    "        axes[i].axis('off')  # Turn off the axes\n",
    "\n",
    "    plt.tight_layout(rect=[0, 0, 1, 0.95])  # Adjust layout to fit the title\n",
    "    plt.show()\n",
    "\n",
    "# display 100 training images\n",
    "print(\"Training Images and Labels:\")\n",
    "display_images_grid(x_train, y_train, label_mapping, title=\"Training Images (100 Examples)\")\n",
    "\n",
    "# display 100 test images\n",
    "print(\"Test Images and Labels:\")\n",
    "display_images_grid(x_test, y_test, label_mapping, title=\"Test Images (100 Examples)\")\n"
   ]
  },
  {
   "cell_type": "markdown",
   "metadata": {},
   "source": [
    "## Step 1: Apply Gaussian Smoothing "
   ]
  },
  {
   "cell_type": "markdown",
   "metadata": {},
   "source": [
    "## Step 2: Gray Scale Conversion"
   ]
  },
  {
   "cell_type": "markdown",
   "metadata": {},
   "source": [
    "## Step 3: Canny Edge Detection"
   ]
  },
  {
   "cell_type": "markdown",
   "metadata": {},
   "source": [
    "# License Plate Detection"
   ]
  },
  {
   "cell_type": "markdown",
   "metadata": {},
   "source": [
    "## Step 4: Image Binarization"
   ]
  },
  {
   "cell_type": "markdown",
   "metadata": {},
   "source": [
    "## Step 5: Morphological Transformations"
   ]
  },
  {
   "cell_type": "markdown",
   "metadata": {},
   "source": [
    "## Step 6: Contour Detection"
   ]
  },
  {
   "cell_type": "markdown",
   "metadata": {},
   "source": [
    "## Step 7: Filter Contour"
   ]
  },
  {
   "cell_type": "markdown",
   "metadata": {},
   "source": [
    "# License Plate Number Recognition"
   ]
  },
  {
   "cell_type": "markdown",
   "metadata": {},
   "source": [
    "## Step 8: Text Recognition"
   ]
  }
 ],
 "metadata": {
  "kernelspec": {
   "display_name": "Python 3",
   "language": "python",
   "name": "python3"
  },
  "language_info": {
   "codemirror_mode": {
    "name": "ipython",
    "version": 3
   },
   "file_extension": ".py",
   "mimetype": "text/x-python",
   "name": "python",
   "nbconvert_exporter": "python",
   "pygments_lexer": "ipython3",
   "version": "3.8.6"
  }
 },
 "nbformat": 4,
 "nbformat_minor": 2
}
